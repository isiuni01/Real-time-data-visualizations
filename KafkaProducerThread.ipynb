{
 "cells": [
  {
   "cell_type": "code",
   "execution_count": null,
   "metadata": {},
   "outputs": [],
   "source": [
    "import csv\n",
    "from pykafka import KafkaClient\n",
    "import json\n",
    "from time import sleep\n",
    "import threading\n",
    "from datetime import datetime, timezone\n",
    "from tqdm import tqdm\n",
    "\n",
    "# Configura Kafka\n",
    "KAFKA_BROKER = \"localhost:9091\"  # Sostituisci con il tuo broker Kafka\n",
    "client = KafkaClient(hosts=KAFKA_BROKER)\n",
    "\n",
    "# Specifica l'intervallo di righe da leggere\n",
    "START_ROW = 1  # Riga iniziale (0-indicizzata)\n",
    "END_ROW = 620402   # Riga finale esclusa (0-indicizzata)\n",
    "# Connettiti al broker Kafka\n",
    "def invia_messaggi_a_kafka(file_path, start_row, end_row, topic_name):\n",
    "    \"\"\"\n",
    "    Funzione thread-safe per leggere un file CSV e inviare un intervallo di righe a Kafka.\n",
    "    \"\"\"\n",
    "    topic = client.topics[topic_name]\n",
    "    producer = topic.get_sync_producer()\n",
    "    print(f\"Avvio l'invio dei messaggi dal file: {file_path} al topic: {topic_name} \\n\")\n",
    "\n",
    "    sent_count = 0\n",
    "    with open(file_path, 'r') as file:\n",
    "        reader = csv.DictReader(file)\n",
    "        for i, row in enumerate(reader):\n",
    "            if start_row <= i < end_row:\n",
    "                current_time = datetime.now(timezone.utc).strftime('%Y-%m-%dT%H:%M:%S.%f')[:-3] + 'Z'\n",
    "                row['time'] = current_time\n",
    "                messaggio = json.dumps(row).encode('utf-8')\n",
    "                producer.produce(messaggio)\n",
    "                sleep(0.05)\n",
    "                sent_count += 1\n",
    "                if sent_count % 100 == 0:\n",
    "                    print(f\"[{file_path}] Inviate {sent_count} righe...\")\n",
    "\n",
    "\n",
    "\n",
    "# Elenco dei file CSV\n",
    "\n",
    "file_paths = [\n",
    "    \"orderedData/ITA.csv\",\"orderedData/USA.csv\",\"orderedData/GBR.csv\",\n",
    "    \"orderedData/NZL.csv\",\"orderedData/FRA.csv\",\"orderedData/SUI.csv\"\n",
    "]\n",
    "topics = [\"ITA\",\"USA\",\"GBR\",\"NZL\",\"FRA\",\"SUI\"]\n",
    "\n",
    "\n",
    "# Crea e avvia i thread\n",
    "threads = []\n",
    "for file_path, topic in zip(file_paths, topics):\n",
    "\n",
    "    thread = threading.Thread(target=invia_messaggi_a_kafka, \n",
    "        args=(file_path, START_ROW, END_ROW, \"boat_data\"))\n",
    "\n",
    "    threads.append(thread)\n",
    "    thread.start()\n",
    "\n",
    "# Aspetta che tutti i thread terminino\n",
    "for thread in threads:\n",
    "    thread.join()\n",
    "\n",
    "print(\"Tutti i file sono stati processati.\")"
   ]
  },
  {
   "cell_type": "code",
   "execution_count": 12,
   "metadata": {},
   "outputs": [
    {
     "name": "stdout",
     "output_type": "stream",
     "text": [
      "Number of rows in orderedData/USA.csv: 620402\n"
     ]
    }
   ],
   "source": [
    "file_path = \"orderedData/USA.csv\"\n",
    "with open(file_path, 'r') as f:\n",
    "    row_count = sum(1 for _ in f) - 1  # subtract 1 for header\n",
    "print(f\"Number of rows in {file_path}: {row_count}\")"
   ]
  },
  {
   "cell_type": "code",
   "execution_count": null,
   "metadata": {},
   "outputs": [],
   "source": [
    "with open(file_path, 'r') as csvfile:\n",
    "    reader = csv.DictReader(csvfile)\n",
    "    foiling_values = set()\n",
    "    for row in reader:\n",
    "        foiling_values.add(row.get('leg'))\n",
    "print(f\"Valori diversi nella colonna 'foiling': {foiling_values}\")\n",
    "print(f\"Numero di valori diversi: {len(foiling_values)}\")"
   ]
  },
  {
   "cell_type": "code",
   "execution_count": null,
   "metadata": {},
   "outputs": [],
   "source": [
    "def invia_messaggi_a_kafka(file_path, start_row, end_row, topic_name):\n",
    "    \"\"\"\n",
    "    Funzione per leggere un file CSV e inviare un intervallo di righe a Kafka.\n",
    "    \"\"\"\n",
    "    topic = client.topics[topic_name]   \n",
    "    # Configura il produttore Kafka\n",
    "    producer = topic.get_sync_producer()\n",
    "\n",
    "    # Leggi il file CSV e invia l'intervallo di righe\n",
    "    with open(file_path, 'r') as file:\n",
    "        reader = csv.DictReader(file)  # Legge il file CSV come dizionari\n",
    "        for i, row in enumerate(reader):\n",
    "            if start_row <= i < end_row:\n",
    "                messaggio = json.dumps(row).encode('utf-8')  # Serializza la riga in formato JSON\n",
    "                producer.produce(messaggio)  # Invia il messaggio a Kafka\n",
    "                sleep(0.05)\n",
    "                #print(f\"[{file_path}] Inviato: {messaggio}\")"
   ]
  },
  {
   "cell_type": "code",
   "execution_count": null,
   "metadata": {},
   "outputs": [],
   "source": [
    "datetime.now(timezone.utc).strftime('%Y-%m-%dT%H:%M:%S.%f')[:-3] + 'Z'"
   ]
  },
  {
   "cell_type": "code",
   "execution_count": 8,
   "metadata": {},
   "outputs": [
    {
     "data": {
      "text/plain": [
       "[<_MainThread(MainThread, started 8539737216)>,\n",
       " <Thread(IOPub, started daemon 6108639232)>,\n",
       " <Heartbeat(Heartbeat, started daemon 6125465600)>,\n",
       " <Thread(Thread-1 (_watch_pipe_fd), started daemon 6143438848)>,\n",
       " <Thread(Thread-2 (_watch_pipe_fd), started daemon 6160265216)>,\n",
       " <ControlThread(Control, started daemon 6177091584)>,\n",
       " <HistorySavingThread(IPythonHistorySavingThread, started 6193917952)>]"
      ]
     },
     "execution_count": 8,
     "metadata": {},
     "output_type": "execute_result"
    }
   ],
   "source": [
    "import threading\n",
    "threading.enumerate()\n",
    "\n"
   ]
  },
  {
   "cell_type": "code",
   "execution_count": 2,
   "metadata": {},
   "outputs": [
    {
     "name": "stdout",
     "output_type": "stream",
     "text": [
      "shape: (5, 48)\n",
      "┌───────┬───────────┬───────────┬───────────┬───┬───────────────┬───────────────┬──────────┬───────┐\n",
      "│       ┆ CWA       ┆ CWAvalue  ┆ TWA       ┆ … ┆ true_wind_dir ┆ true_wind_spe ┆ tstamp   ┆ turn  │\n",
      "│ ---   ┆ ---       ┆ ---       ┆ ---       ┆   ┆ ection.value  ┆ ed.value      ┆ ---      ┆ ---   │\n",
      "│ i64   ┆ f64       ┆ f64       ┆ f64       ┆   ┆ ---           ┆ ---           ┆ f64      ┆ bool  │\n",
      "│       ┆           ┆           ┆           ┆   ┆ f64           ┆ f64           ┆          ┆       │\n",
      "╞═══════╪═══════════╪═══════════╪═══════════╪═══╪═══════════════╪═══════════════╪══════════╪═══════╡\n",
      "│ 30020 ┆ 64.85083  ┆ 64.85083  ┆ 61.140518 ┆ … ┆ 101.289688    ┆ 9.307171      ┆ 1.7249e9 ┆ true  │\n",
      "│ 30021 ┆ 64.820271 ┆ 64.820271 ┆ 61.109959 ┆ … ┆ 101.289688    ┆ 9.307171      ┆ 1.7249e9 ┆ false │\n",
      "│ 30022 ┆ 64.820271 ┆ 64.820271 ┆ 61.109959 ┆ … ┆ 101.289688    ┆ 9.307171      ┆ 1.7249e9 ┆ false │\n",
      "│ 30023 ┆ 64.820271 ┆ 64.820271 ┆ 61.109959 ┆ … ┆ 101.289688    ┆ 9.307171      ┆ 1.7249e9 ┆ false │\n",
      "│ 30024 ┆ 64.820271 ┆ 64.820271 ┆ 61.092922 ┆ … ┆ 101.272652    ┆ 9.310874      ┆ 1.7249e9 ┆ false │\n",
      "└───────┴───────────┴───────────┴───────────┴───┴───────────────┴───────────────┴──────────┴───────┘\n"
     ]
    }
   ],
   "source": [
    "import polars as pl\n",
    "data = pl.read_csv(\"orderedData/ITA.csv\")\n",
    "print(data.head())"
   ]
  },
  {
   "cell_type": "code",
   "execution_count": 3,
   "metadata": {},
   "outputs": [
    {
     "data": {
      "text/plain": [
       "['',\n",
       " 'CWA',\n",
       " 'CWAvalue',\n",
       " 'TWA',\n",
       " 'TWAvalue',\n",
       " 'VMC',\n",
       " 'VMG',\n",
       " 'X',\n",
       " 'Y',\n",
       " 'Ydist',\n",
       " 'Yrolling',\n",
       " 'asset_id',\n",
       " 'boat',\n",
       " 'bord',\n",
       " 'class',\n",
       " 'course_over_ground.value',\n",
       " 'cumulative_VMG',\n",
       " 'direction',\n",
       " 'distance_derivative',\n",
       " 'distance_to_prev',\n",
       " 'distance_to_start',\n",
       " 'duration',\n",
       " 'foiling',\n",
       " 'gnss_position.altitude',\n",
       " 'gnss_position.latitude',\n",
       " 'gnss_position.longitude',\n",
       " 'gybe',\n",
       " 'heading.value',\n",
       " 'leg',\n",
       " 'maneuver',\n",
       " 'opponent',\n",
       " 'race_course.course_axis',\n",
       " 'race_number',\n",
       " 'source',\n",
       " 'speed_over_ground.calculated',\n",
       " 'speed_over_ground.value',\n",
       " 'status',\n",
       " 'tack',\n",
       " 'time',\n",
       " 'time_to_gybe',\n",
       " 'time_to_prev',\n",
       " 'time_to_tack',\n",
       " 'time_to_turn',\n",
       " 'timestamp',\n",
       " 'true_wind_direction.value',\n",
       " 'true_wind_speed.value',\n",
       " 'tstamp',\n",
       " 'turn']"
      ]
     },
     "execution_count": 3,
     "metadata": {},
     "output_type": "execute_result"
    }
   ],
   "source": [
    "data.columns"
   ]
  }
 ],
 "metadata": {
  "kernelspec": {
   "display_name": "Python 3",
   "language": "python",
   "name": "python3"
  },
  "language_info": {
   "codemirror_mode": {
    "name": "ipython",
    "version": 3
   },
   "file_extension": ".py",
   "mimetype": "text/x-python",
   "name": "python",
   "nbconvert_exporter": "python",
   "pygments_lexer": "ipython3",
   "version": "3.10.14"
  }
 },
 "nbformat": 4,
 "nbformat_minor": 2
}
